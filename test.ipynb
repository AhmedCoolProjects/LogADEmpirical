{
 "cells": [
  {
   "cell_type": "code",
   "execution_count": 4,
   "outputs": [],
   "source": [
    "from logadempirical.data.vocab import Vocab\n",
    "import pandas as pd\n",
    "import os\n",
    "import pickle\n",
    "import logging"
   ],
   "metadata": {
    "collapsed": false,
    "pycharm": {
     "name": "#%%\n"
    }
   }
  },
  {
   "cell_type": "code",
   "execution_count": 5,
   "outputs": [],
   "source": [
    "logger = logging.getLogger(__name__)"
   ],
   "metadata": {
    "collapsed": false,
    "pycharm": {
     "name": "#%%\n"
    }
   }
  },
  {
   "cell_type": "code",
   "execution_count": 6,
   "outputs": [],
   "source": [
    "def build_vocab(vocab_path, data_dir, train_path, embeddings, is_unsupervised=False):\n",
    "    if not os.path.exists(vocab_path):\n",
    "        with open(train_path, 'rb') as f:\n",
    "            data = pickle.load(f)\n",
    "        if is_unsupervised:\n",
    "            logs = [x['EventTemplate'] for x in data if x['Label'] == 0]\n",
    "        else:\n",
    "            logs = [x['EventTemplate'] for x in data]\n",
    "        vocab = Vocab(logs, os.path.join(data_dir, embeddings))\n",
    "        logger.info(f\"Vocab size: {len(vocab)}\")\n",
    "        logger.info(f\"Save vocab in {vocab_path}\")\n",
    "        vocab.save_vocab(vocab_path)\n",
    "    else:\n",
    "        vocab = Vocab.load_vocab(vocab_path)\n",
    "        logger.info(f\"Vocab size: {len(vocab)}\")\n",
    "    return vocab"
   ],
   "metadata": {
    "collapsed": false,
    "pycharm": {
     "name": "#%%\n"
    }
   }
  },
  {
   "cell_type": "code",
   "execution_count": 7,
   "outputs": [],
   "source": [
    "vocab = log_vocab = build_vocab(\"output/HDFS/session/train0.1/vocabs/DeepLog.pkl\", \"dataset/HDFS\", \"\", \"\")"
   ],
   "metadata": {
    "collapsed": false,
    "pycharm": {
     "name": "#%%\n"
    }
   }
  },
  {
   "cell_type": "code",
   "execution_count": 8,
   "outputs": [
    {
     "data": {
      "text/plain": "['Received block <*> of size <*> from /<*>',\n '<*>:Transmitted block <*> to /<*>',\n 'BLOCK* NameSystem.addStoredBlock: addStoredBlock request received for <*> on <*> size <*> But it does not belong to any file.',\n 'Verification succeeded for <*>',\n 'PacketResponder <*> for block <*> <*>',\n 'BLOCK* ask <*> to replicate <*> to datanode(s) <*>',\n 'Deleting block <*> file <*>',\n '<*> Starting thread to transfer block <*> to <*>',\n '<*> Starting thread to transfer block <*> to <*>, <*>',\n 'BLOCK* NameSystem.addStoredBlock: blockMap updated: <*> is added to <*> size <*>',\n '<*> Served block <*> to /<*>',\n 'BLOCK* NameSystem.addStoredBlock: Redundant addStoredBlock request received for <*> on <*> size <*>',\n 'Unexpected error trying to delete block <*>. BlockInfo not found in volumeMap.',\n 'BLOCK* ask <*> to replicate <*> to datanode(s) <*> <*>',\n 'Receiving block <*> src: /<*> dest: /<*>',\n 'BLOCK* NameSystem.delete: <*> is added to invalidSet of <*>',\n 'Received block <*> src: /<*> dest: /<*> of size <*>',\n '<*>:Got exception while serving <*> to /<*>:',\n 'BLOCK* NameSystem.allocateBlock: <*> <*>',\n 'padding']"
     },
     "execution_count": 8,
     "metadata": {},
     "output_type": "execute_result"
    }
   ],
   "source": [
    "vocab.itos"
   ],
   "metadata": {
    "collapsed": false,
    "pycharm": {
     "name": "#%%\n"
    }
   }
  },
  {
   "cell_type": "code",
   "execution_count": 9,
   "outputs": [],
   "source": [
    "event_df = pd.read_csv(\"./dataset/HDFS/HDFS.log_templates.csv\")"
   ],
   "metadata": {
    "collapsed": false,
    "pycharm": {
     "name": "#%%\n"
    }
   }
  },
  {
   "cell_type": "code",
   "execution_count": 14,
   "outputs": [],
   "source": [
    "all_temp_count = [v for k, v in zip(event_df['EventTemplate'], event_df['Occurrences'])]\n",
    "normal_temp_count = [v for k, v in zip(event_df['EventTemplate'], event_df['Occurrences']) if k in vocab.itos]"
   ],
   "metadata": {
    "collapsed": false,
    "pycharm": {
     "name": "#%%\n"
    }
   }
  },
  {
   "cell_type": "code",
   "execution_count": 15,
   "outputs": [
    {
     "name": "stdout",
     "output_type": "stream",
     "text": [
      "11170312 / 11175629\n"
     ]
    }
   ],
   "source": [
    "print(sum(normal_temp_count), \"/\", sum(all_temp_count))"
   ],
   "metadata": {
    "collapsed": false,
    "pycharm": {
     "name": "#%%\n"
    }
   }
  },
  {
   "cell_type": "code",
   "execution_count": 16,
   "outputs": [],
   "source": [
    "abnormal_template = [k for k, v in zip(event_df['EventTemplate'], event_df['Occurrences']) if k not in vocab.itos]"
   ],
   "metadata": {
    "collapsed": false,
    "pycharm": {
     "name": "#%%\n"
    }
   }
  },
  {
   "cell_type": "code",
   "execution_count": 18,
   "outputs": [
    {
     "data": {
      "text/plain": "29"
     },
     "execution_count": 18,
     "metadata": {},
     "output_type": "execute_result"
    }
   ],
   "source": [
    "len(abnormal_template)"
   ],
   "metadata": {
    "collapsed": false,
    "pycharm": {
     "name": "#%%\n"
    }
   }
  },
  {
   "cell_type": "code",
   "execution_count": 19,
   "outputs": [],
   "source": [
    "log_df = pd.read_csv(\"./dataset/HDFS/HDFS.log_structured.csv\")"
   ],
   "metadata": {
    "collapsed": false,
    "pycharm": {
     "name": "#%%\n"
    }
   }
  },
  {
   "cell_type": "code",
   "execution_count": 20,
   "outputs": [],
   "source": [
    "block_ids = []\n",
    "log_df_ab = log_df[log_df.EventTemplate.isin(abnormal_template)].to_dict('records')"
   ],
   "metadata": {
    "collapsed": false,
    "pycharm": {
     "name": "#%%\n"
    }
   }
  },
  {
   "cell_type": "code",
   "execution_count": 21,
   "outputs": [
    {
     "data": {
      "text/plain": "{'LineId': 6336,\n 'Date': 81109,\n 'Time': 203633,\n 'Pid': 147,\n 'Level': 'INFO',\n 'Component': 'dfs.DataNode$DataXceiver',\n 'Content': 'writeBlock blk_-3102267849859399193 received exception java.net.SocketTimeoutException',\n 'EventId': 'ace40671',\n 'EventTemplate': 'writeBlock <*> received exception <*>',\n 'ParameterList': \"['blk_-3102267849859399193', 'java.net.SocketTimeoutException']\"}"
     },
     "execution_count": 21,
     "metadata": {},
     "output_type": "execute_result"
    }
   ],
   "source": [
    "log_df_ab[0]"
   ],
   "metadata": {
    "collapsed": false,
    "pycharm": {
     "name": "#%%\n"
    }
   }
  },
  {
   "cell_type": "code",
   "execution_count": 22,
   "outputs": [],
   "source": [
    "# convert ParameterList from string to list\n",
    "for log in log_df_ab:\n",
    "    log['ParameterList'] = eval(log['ParameterList'])"
   ],
   "metadata": {
    "collapsed": false,
    "pycharm": {
     "name": "#%%\n"
    }
   }
  },
  {
   "cell_type": "code",
   "execution_count": 23,
   "outputs": [
    {
     "data": {
      "text/plain": "{'LineId': 6336,\n 'Date': 81109,\n 'Time': 203633,\n 'Pid': 147,\n 'Level': 'INFO',\n 'Component': 'dfs.DataNode$DataXceiver',\n 'Content': 'writeBlock blk_-3102267849859399193 received exception java.net.SocketTimeoutException',\n 'EventId': 'ace40671',\n 'EventTemplate': 'writeBlock <*> received exception <*>',\n 'ParameterList': ['blk_-3102267849859399193',\n  'java.net.SocketTimeoutException']}"
     },
     "execution_count": 23,
     "metadata": {},
     "output_type": "execute_result"
    }
   ],
   "source": [
    "log_df_ab[0]"
   ],
   "metadata": {
    "collapsed": false,
    "pycharm": {
     "name": "#%%\n"
    }
   }
  },
  {
   "cell_type": "code",
   "execution_count": 25,
   "outputs": [],
   "source": [
    "block_ids = []\n",
    "for log in log_df_ab:\n",
    "    blk = [x for x in log['ParameterList'] if 'blk_' in x]\n",
    "    block_ids.extend(blk)"
   ],
   "metadata": {
    "collapsed": false,
    "pycharm": {
     "name": "#%%\n"
    }
   }
  },
  {
   "cell_type": "code",
   "execution_count": 27,
   "outputs": [],
   "source": [
    "block_ids = list(set(block_ids))"
   ],
   "metadata": {
    "collapsed": false,
    "pycharm": {
     "name": "#%%\n"
    }
   }
  },
  {
   "cell_type": "code",
   "execution_count": 28,
   "outputs": [
    {
     "data": {
      "text/plain": "3970"
     },
     "execution_count": 28,
     "metadata": {},
     "output_type": "execute_result"
    }
   ],
   "source": [
    "len(block_ids)"
   ],
   "metadata": {
    "collapsed": false,
    "pycharm": {
     "name": "#%%\n"
    }
   }
  },
  {
   "cell_type": "code",
   "execution_count": 29,
   "outputs": [],
   "source": [
    "def load_features(data_path, is_unsupervised=True, min_len=0):\n",
    "    \"\"\"\n",
    "    Load features from pickle file\n",
    "    Parameters\n",
    "    ----------\n",
    "    data_path: str: Path to pickle file\n",
    "    is_unsupervised: bool: Whether the model is unsupervised or not\n",
    "    min_len: int: Minimum length of log sequence\n",
    "\n",
    "    Returns\n",
    "    -------\n",
    "    logs: List[Tuple[List[str], int]]: List of log sequences\n",
    "    \"\"\"\n",
    "    with open(data_path, 'rb') as f:\n",
    "        data = pickle.load(f)\n",
    "    if is_unsupervised:\n",
    "        logs = []\n",
    "        no_abnormal = 0\n",
    "        for seq in data:\n",
    "            if len(seq['EventTemplate']) < min_len:\n",
    "                continue\n",
    "            if not isinstance(seq['Label'], int):\n",
    "                label = max(seq['Label'].tolist())\n",
    "            else:\n",
    "                label = seq['Label']\n",
    "            if label == 0:\n",
    "                logs.append((seq['EventTemplate'], label))\n",
    "            else:\n",
    "                no_abnormal += 1\n",
    "        print(\"Number of abnormal sessions:\", no_abnormal)\n",
    "    else:\n",
    "        logs = []\n",
    "        no_abnormal = 0\n",
    "        for seq in data:\n",
    "            if len(seq['EventTemplate']) < min_len:\n",
    "                continue\n",
    "            if not isinstance(seq['Label'], int):\n",
    "                label = seq['Label'].tolist()\n",
    "                if max(label) > 0:\n",
    "                    no_abnormal += 1\n",
    "            else:\n",
    "                label = seq['Label']\n",
    "                if label > 0:\n",
    "                    no_abnormal += 1\n",
    "            logs.append((seq['EventTemplate'], label))\n",
    "        print(\"Number of abnormal sessions:\", no_abnormal)\n",
    "    return logs"
   ],
   "metadata": {
    "collapsed": false,
    "pycharm": {
     "name": "#%%\n"
    }
   }
  },
  {
   "cell_type": "code",
   "execution_count": 31,
   "outputs": [
    {
     "name": "stdout",
     "output_type": "stream",
     "text": [
      "Number of abnormal sessions: 15149\n"
     ]
    }
   ],
   "source": [
    "logs = load_features(\"./output/HDFS/session/train0.1/test.pkl\", is_unsupervised=False)"
   ],
   "metadata": {
    "collapsed": false,
    "pycharm": {
     "name": "#%%\n"
    }
   }
  },
  {
   "cell_type": "code",
   "execution_count": 32,
   "outputs": [
    {
     "data": {
      "text/plain": "(['Receiving block <*> src: /<*> dest: /<*>',\n  'Receiving block <*> src: /<*> dest: /<*>',\n  'Receiving block <*> src: /<*> dest: /<*>',\n  'BLOCK* NameSystem.allocateBlock: <*> <*>',\n  'PacketResponder <*> for block <*> <*>',\n  'Received block <*> of size <*> from /<*>',\n  'PacketResponder <*> for block <*> <*>',\n  'Received block <*> of size <*> from /<*>',\n  'PacketResponder <*> for block <*> <*>',\n  'Received block <*> of size <*> from /<*>',\n  'BLOCK* NameSystem.addStoredBlock: blockMap updated: <*> is added to <*> size <*>',\n  'BLOCK* NameSystem.addStoredBlock: blockMap updated: <*> is added to <*> size <*>',\n  'BLOCK* NameSystem.addStoredBlock: blockMap updated: <*> is added to <*> size <*>',\n  'BLOCK* NameSystem.delete: <*> is added to invalidSet of <*>',\n  'BLOCK* NameSystem.delete: <*> is added to invalidSet of <*>',\n  'BLOCK* NameSystem.delete: <*> is added to invalidSet of <*>',\n  'Deleting block <*> file <*>',\n  'Deleting block <*> file <*>',\n  'Deleting block <*> file <*>'],\n 0)"
     },
     "execution_count": 32,
     "metadata": {},
     "output_type": "execute_result"
    }
   ],
   "source": [
    "logs[0]"
   ],
   "metadata": {
    "collapsed": false,
    "pycharm": {
     "name": "#%%\n"
    }
   }
  },
  {
   "cell_type": "code",
   "execution_count": 33,
   "outputs": [],
   "source": [
    "ab_logs = [x for x in logs if x[1] > 0]"
   ],
   "metadata": {
    "collapsed": false,
    "pycharm": {
     "name": "#%%\n"
    }
   }
  },
  {
   "cell_type": "code",
   "execution_count": 34,
   "outputs": [
    {
     "data": {
      "text/plain": "15149"
     },
     "execution_count": 34,
     "metadata": {},
     "output_type": "execute_result"
    }
   ],
   "source": [
    "len(ab_logs)"
   ],
   "metadata": {
    "collapsed": false,
    "pycharm": {
     "name": "#%%\n"
    }
   }
  },
  {
   "cell_type": "code",
   "execution_count": 39,
   "outputs": [],
   "source": [
    "ab_log_events = sum([x[0] for x in ab_logs], [])"
   ],
   "metadata": {
    "collapsed": false,
    "pycharm": {
     "name": "#%%\n"
    }
   }
  },
  {
   "cell_type": "code",
   "execution_count": 40,
   "outputs": [],
   "source": [
    "ab_log_events = [x for x in ab_log_events if x not in vocab.itos]"
   ],
   "metadata": {
    "collapsed": false,
    "pycharm": {
     "name": "#%%\n"
    }
   }
  },
  {
   "cell_type": "code",
   "execution_count": 41,
   "outputs": [
    {
     "data": {
      "text/plain": "4754"
     },
     "execution_count": 41,
     "metadata": {},
     "output_type": "execute_result"
    }
   ],
   "source": [
    "len(ab_log_events)"
   ],
   "metadata": {
    "collapsed": false,
    "pycharm": {
     "name": "#%%\n"
    }
   }
  },
  {
   "cell_type": "code",
   "execution_count": null,
   "outputs": [],
   "source": [],
   "metadata": {
    "collapsed": false,
    "pycharm": {
     "name": "#%%\n"
    }
   }
  }
 ],
 "metadata": {
  "kernelspec": {
   "display_name": "Python 3",
   "language": "python",
   "name": "python3"
  },
  "language_info": {
   "codemirror_mode": {
    "name": "ipython",
    "version": 2
   },
   "file_extension": ".py",
   "mimetype": "text/x-python",
   "name": "python",
   "nbconvert_exporter": "python",
   "pygments_lexer": "ipython2",
   "version": "2.7.6"
  }
 },
 "nbformat": 4,
 "nbformat_minor": 0
}